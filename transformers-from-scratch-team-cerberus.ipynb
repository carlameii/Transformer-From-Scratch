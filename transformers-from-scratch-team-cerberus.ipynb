{
 "cells": [
  {
   "cell_type": "code",
   "execution_count": 14,
   "metadata": {},
   "outputs": [],
   "source": [
    "from dataclasses import dataclass\n",
    "\n",
    "import torch\n",
    "import torch.nn as nn\n",
    "import torch.nn.functional as F\n",
    "from jaxtyping import Float, Int"
   ]
  },
  {
   "cell_type": "code",
   "execution_count": 15,
   "metadata": {},
   "outputs": [
    {
     "data": {
      "text/plain": [
       "<torch._C.Generator at 0x7fadaf95b590>"
      ]
     },
     "execution_count": 15,
     "metadata": {},
     "output_type": "execute_result"
    }
   ],
   "source": [
    "torch.manual_seed(0)"
   ]
  },
  {
   "cell_type": "code",
   "execution_count": 16,
   "metadata": {},
   "outputs": [
    {
     "name": "stdout",
     "output_type": "stream",
     "text": [
      "(2463488,)\n"
     ]
    }
   ],
   "source": [
    "@dataclass\n",
    "class GPTConfig:\n",
    "\t# default test values -- too small for a real language model, but big enough for testing\n",
    "\td_vocab: int = 10_000\n",
    "\td_model: int = 128\n",
    "\td_mlp: int = 512\n",
    "\tn_heads: int = 4\n",
    "\td_head: int = 32\n",
    "\tn_layers: int = 6\n",
    "\tact_fn: type[nn.Module] = nn.ReLU\n",
    "\n",
    "\t@property\n",
    "\tdef n_params(self) -> int:\n",
    "\t\t\"an estimate of the number of parameters\"\n",
    "\t\treturn (\n",
    "\t\t\tself.d_vocab * self.d_model # embeddings (and tied unembeddings)\n",
    "\t\t\t+ (\n",
    "\t\t\t\tself.d_model * self.d_mlp * 2 # mlp weights\n",
    "\t\t\t\t+ self.d_model + self.d_mlp # mlp bias\n",
    "\t\t\t\t+ self.n_heads * ( # number of heads\n",
    "\t\t\t\t\t4 * self.d_model * self.d_head # 4 because Q, K, O, V\n",
    "\t\t\t\t)\n",
    "\t\t\t) * self.n_layers, # for each layer\n",
    "\t\t)\n",
    "\t\n",
    "print(GPTConfig().n_params)\n",
    "\n",
    "# note: the residual stream is `n_context` by `d_model`\n",
    "\n",
    "# this is the row-wise (last dimension) softmax of x\n",
    "# F.softmax(x, dim=-1)\n",
    "\n",
    "class AttentionHead(nn.Module):\n",
    "\n",
    "\tdef __init__(self, cfg: GPTConfig):\n",
    "\t\tsuper().__init__()\n",
    "\t\tself.relu = nn.ReLU()\n",
    "\t\tself.d_vocab = cfg.d_vocab\n",
    "\t\tself.d_model = cfg.d_model\n",
    "\t\tself.d_head = cfg.d_head\n",
    "\t\tself.wq = nn.Linear(self.d_model, self.d_head)\n",
    "\t\tself.wk = nn.Linear(self.d_model, self.d_head)\n",
    "\t\tself.wv = nn.Linear(self.d_model, self.d_head)\n",
    "\t\tself.wo = nn.Linear(self.d_head, self.d_model)\n",
    "\n",
    "\t\n",
    "\t\n",
    "\tdef forward(self, x: Int[torch.Tensor, \"n_context d_model\"]) -> Float[torch.Tensor, \"n_context d_model\"]:\n",
    "\t\tdef masking_matrix(n_context):\n",
    "\t\t\tmask = torch.zeros((n_context, n_context))  # Start with all 0s\n",
    "\t\t\tmask[torch.triu(torch.ones((n_context, n_context)), diagonal=1) == 1] = -float('inf')  # Set above diagonal to -inf\n",
    "\t\t\treturn mask\n",
    "\t\t\n",
    "\t\tM = masking_matrix(x.shape[0])\n",
    "\t\t# softmax_argument = x*self.wq*torch.transpose(self.wk)*torch.transpose(x) + M\n",
    "\t\twk_out = torch.transpose(self.wk(x), 0, 1)\n",
    "\t\tprint(\"WK shape \", wk_out.shape)\n",
    "\t\twq_out = self.wq(x)\n",
    "\t\tprint(\"WQ shape \", wq_out.shape)\n",
    "\t\tsoftmax_out = F.softmax((wq_out@wk_out + M), dim=-1)\n",
    "\t\tprint(\"Softmax shape \", softmax_out.shape)\n",
    "\t\twv_out = self.wv(x)\n",
    "\t\tprint(\"WV shape \", wv_out.shape)\n",
    "\t\two_out = self.wo(wv_out)\n",
    "\t\t# wo_out = self.wo(wv_out)\n",
    "\t\tresult = softmax_out@wo_out\n",
    "\t\tprint(\"Final A Shape \", result.shape)\n",
    "\t\treturn result\n",
    "\t\t\n",
    "\t\t\n",
    "class MultiHeadedAttention(nn.Module):\n",
    "\n",
    "\tdef __init__(self, cfg: GPTConfig):\n",
    "\t\tsuper().__init__()\n",
    "\t\tself.n_heads = cfg.n_heads\n",
    "\t\tself.d_model = cfg.d_model\n",
    "\t\tself.d_head = cfg.d_head\n",
    "\t\tself.wo = nn.Linear(self.d_model, self.d_head)\n",
    "\t\tself.attention_heads = nn.ModuleList([AttentionHead(cfg) for _ in range(self.n_heads)])\n",
    "\n",
    "\n",
    "\tdef forward(x: Int[torch.Tensor, \"n_context d_model\"]) -> Float[torch.Tensor, \"n_context d_model\"]:\n",
    "\t\thead_outputs = [head(x) for head in self.attention_heads]\n",
    "\t\tprint(head_outputs)\n",
    "\n",
    "\n",
    "\n",
    "\n",
    "class MLP(nn.Module):\n",
    "\n",
    "\tdef __init__(self, cfg: GPTConfig):\n",
    "\t\tsuper().__init__()\n",
    "\t\traise NotImplementedError()\n",
    "\n",
    "\tdef forward(x: Int[torch.Tensor, \"n_context d_model\"]) -> Float[torch.Tensor, \"n_context d_model\"]:\n",
    "\t\traise NotImplementedError()\n",
    "\n",
    "\n",
    "\n",
    "class Transformer(nn.Module):\n",
    "\n",
    "\tdef __init__(self, cfg: GPTConfig):\n",
    "\t\tsuper().__init__()\n",
    "\t\traise NotImplementedError()\n",
    "\t\t# uses `MultiHeadedAttention` and `MLP`\n",
    "\t\t# uses nn.Embedding for the embedding, transpose of it for the unembedding\n",
    "\n",
    "\tdef forward(x: Int[torch.Tensor, \"n_context\"]) -> Float[torch.Tensor, \"n_context d_vocab\"]:\n",
    "\t\traise NotImplementedError()"
   ]
  },
  {
   "cell_type": "code",
   "execution_count": 17,
   "metadata": {},
   "outputs": [
    {
     "name": "stdout",
     "output_type": "stream",
     "text": [
      "WK shape  torch.Size([32, 256])\n",
      "WQ shape  torch.Size([256, 32])\n",
      "Softmax shape  torch.Size([256, 256])\n",
      "WV shape  torch.Size([256, 32])\n",
      "Final A Shape  torch.Size([256, 128])\n"
     ]
    },
    {
     "data": {
      "text/plain": [
       "tensor([[ 0.1896,  0.0638, -0.0859,  ..., -0.1011, -0.2527,  0.2130],\n",
       "        [ 0.4502,  0.2570, -0.0370,  ...,  0.1842, -0.0311,  0.0949],\n",
       "        [ 0.3652, -0.5231, -0.1242,  ..., -0.1256,  0.3270,  0.7341],\n",
       "        ...,\n",
       "        [ 0.1972,  0.2424, -0.0650,  ..., -0.2720, -0.0777,  0.0690],\n",
       "        [ 0.1726,  0.3053, -0.1114,  ..., -0.1802,  0.0297,  0.0239],\n",
       "        [ 0.2779,  0.2770, -0.1763,  ..., -0.1758,  0.0078,  0.1137]],\n",
       "       grad_fn=<MmBackward0>)"
      ]
     },
     "execution_count": 17,
     "metadata": {},
     "output_type": "execute_result"
    }
   ],
   "source": [
    "gpt_config = GPTConfig()\n",
    "attn_head = AttentionHead(gpt_config)\n",
    "x = torch.randn(256, gpt_config.d_model)\n",
    "# print(x)\n",
    "# print(x.shape)\n",
    "attn_head.forward(x)\n"
   ]
  }
 ],
 "metadata": {
  "kernelspec": {
   "display_name": ".venv",
   "language": "python",
   "name": "python3"
  },
  "language_info": {
   "codemirror_mode": {
    "name": "ipython",
    "version": 3
   },
   "file_extension": ".py",
   "mimetype": "text/x-python",
   "name": "python",
   "nbconvert_exporter": "python",
   "pygments_lexer": "ipython3",
   "version": "3.12.8"
  }
 },
 "nbformat": 4,
 "nbformat_minor": 2
}
